{
 "cells": [
  {
   "cell_type": "markdown",
   "id": "eaf36259",
   "metadata": {},
   "source": [
    "# Database Credentials (read only user)"
   ]
  },
  {
   "cell_type": "markdown",
   "id": "73a98b29",
   "metadata": {},
   "source": [
    "host=\"34.132.168.244\"\n",
    "\n",
    "database=\"EDAdb\"\n",
    "\n",
    "user=\"MrDmitry2\"\n",
    "\n",
    "password=\"Bonus\"\n"
   ]
  },
  {
   "cell_type": "code",
   "execution_count": null,
   "id": "8921bed7",
   "metadata": {},
   "outputs": [],
   "source": []
  }
 ],
 "metadata": {
  "kernelspec": {
   "display_name": "Python 3",
   "language": "python",
   "name": "python3"
  },
  "language_info": {
   "codemirror_mode": {
    "name": "ipython",
    "version": 3
   },
   "file_extension": ".py",
   "mimetype": "text/x-python",
   "name": "python",
   "nbconvert_exporter": "python",
   "pygments_lexer": "ipython3",
   "version": "3.8.8"
  }
 },
 "nbformat": 4,
 "nbformat_minor": 5
}
