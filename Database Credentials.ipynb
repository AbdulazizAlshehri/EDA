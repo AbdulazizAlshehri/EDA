{
 "cells": [
  {
   "cell_type": "markdown",
   "id": "eaf36259",
   "metadata": {},
   "source": [
    "# Database Credentials (read only user)"
   ]
  },
  {
   "cell_type": "markdown",
   "id": "73a98b29",
   "metadata": {},
   "source": [
    "host=\"34.132.168.244\"\n",
    "\n",
    "database=\"mydb\"\n",
    "\n",
    "user=\"MrDmitry2\"\n",
    "\n",
    "password=\"Bonus\"\n"
   ]
  }
 ],
 "metadata": {
  "kernelspec": {
   "display_name": "Python 3",
   "language": "python",
   "name": "python3"
  },
  "language_info": {
   "codemirror_mode": {
    "name": "ipython",
    "version": 3
   },
   "file_extension": ".py",
   "mimetype": "text/x-python",
   "name": "python",
   "nbconvert_exporter": "python",
   "pygments_lexer": "ipython3",
   "version": "3.8.8"
  }
 },
 "nbformat": 4,
 "nbformat_minor": 5
}
